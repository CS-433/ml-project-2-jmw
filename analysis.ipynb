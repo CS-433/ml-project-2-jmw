{
 "cells": [
  {
   "cell_type": "code",
   "execution_count": 52,
   "id": "df335dde-8a74-4e98-84b4-44fb3f3dbdf5",
   "metadata": {},
   "outputs": [
    {
     "name": "stderr",
     "output_type": "stream",
     "text": [
      "/home/wene/miniconda3/envs/mlenv/lib/python3.12/site-packages/albumentations/__init__.py:13: UserWarning: A new version of Albumentations is available: 1.4.23 (you have 1.4.15). Upgrade using: pip install -U albumentations. To disable automatic update checks, set the environment variable NO_ALBUMENTATIONS_UPDATE to 1.\n",
      "  check_for_updates()\n"
     ]
    }
   ],
   "source": [
    "import pandas as pd\n",
    "import matplotlib.pyplot as plt\n",
    "\n",
    "import torch\n",
    "import os\n",
    "from PIL import Image\n",
    "\n",
    "from Config import Config\n",
    "from Models import Tools"
   ]
  },
  {
   "cell_type": "code",
   "execution_count": 46,
   "id": "cd7ca65d-3e6b-45d3-98af-a8b22f6fb6d1",
   "metadata": {},
   "outputs": [],
   "source": [
    "notes = pd.read_csv('CSVs/combined.csv')\n",
    "preds = pd.read_csv('predictions_17december.csv')\n",
    "\n",
    "preds['Image Name'] = preds['Image Name'].map(lambda s : os.path.splitext(s)[0])\n",
    "notes['Image Name'] = notes['Image Name'].map(lambda s : os.path.splitext(s)[0])\n",
    "\n",
    "notes = notes.groupby(['Image Name']).mean()\n",
    "\n",
    "def get_image_shape(file_path):\n",
    "    with Image.open(file_path) as img:\n",
    "        return img.size"
   ]
  },
  {
   "cell_type": "code",
   "execution_count": 47,
   "id": "03dc0b7b-1184-4baf-bdec-e7047334edc6",
   "metadata": {},
   "outputs": [],
   "source": [
    "df = preds.set_index('Image Name').join(notes, how='inner', lsuffix='_predicted', rsuffix='_real')"
   ]
  },
  {
   "cell_type": "code",
   "execution_count": 48,
   "id": "c0514f10-7370-48e3-aa1a-64a390ebcfe2",
   "metadata": {},
   "outputs": [],
   "source": [
    "shapes  = df.index.map(lambda s : get_image_shape(\n",
    "    os.path.join(Config.images_folder_path, s + '.png')\n",
    "    )\n",
    ").to_frame( index=False,name=['X','Y']).values\n",
    "\n",
    "df['X'] = shapes[:,0]\n",
    "df['Y'] = shapes[:,1]"
   ]
  },
  {
   "cell_type": "code",
   "execution_count": 49,
   "id": "7e838b08-5fa5-4892-84f1-daaea59ef7d1",
   "metadata": {},
   "outputs": [],
   "source": [
    "df = df.assign(\n",
    "    x1_predicted=lambda d: d['x1_predicted'] / d['X'],\n",
    "    y1_predicted=lambda d: d['y1_predicted'] / d['Y'],\n",
    "    x2_predicted=lambda d: d['x2_predicted'] / d['X'],\n",
    "    y2_predicted=lambda d: d['y2_predicted'] / d['Y'],\n",
    "    x1_real=lambda d: d['x1_real'] / d['X'],\n",
    "    y1_real=lambda d: d['y1_real'] / d['Y'],\n",
    "    x2_real=lambda d: d['x2_real'] / d['X'],\n",
    "    y2_real=lambda d: d['y2_real'] / d['Y'], \n",
    ").drop(['X','Y'], axis=1)"
   ]
  },
  {
   "cell_type": "code",
   "execution_count": 55,
   "id": "e69fdcc0-601c-4750-be5c-5356869b0f44",
   "metadata": {},
   "outputs": [
    {
     "name": "stdout",
     "output_type": "stream",
     "text": [
      "MSE loss 0.045702337944739976\n",
      "Tools.py distance loss (normalized?) 0.12729763552053083\n"
     ]
    }
   ],
   "source": [
    "outputs = torch.tensor(df[['x1_predicted','y1_predicted','x2_predicted','y2_predicted']].values)\n",
    "keypoints = torch.tensor(df[['x1_real','y1_real','x2_real','y2_real']].values)\n",
    "\n",
    "clamp_threshold = 0.004\n",
    "\n",
    "errors = (keypoints - outputs)**2\n",
    "mse_per_vector = torch.mean(errors, dim=1, keepdim=True)\n",
    "mse_per_vector_np = mse_per_vector.cpu().numpy()\n",
    "\n",
    "# Step 1: Normalize by mean and variance\n",
    "mean = mse_per_vector.mean()\n",
    "std = mse_per_vector.std()\n",
    "normalized_vector = (mse_per_vector - mean) / std\n",
    "\n",
    "min_val = normalized_vector.min()\n",
    "max_val = normalized_vector.max()\n",
    "\n",
    "scaled_errors = (normalized_vector - min_val) / (max_val - min_val)\n",
    "\n",
    "df['Error scale'] = scaled_errors\n",
    "\n",
    "print(f\"MSE loss {torch.nn.MSELoss()(outputs, keypoints)}\")\n",
    "print(f\"Tools.py distance loss (normalized?) {Tools.get_distance_loss(outputs, keypoints)}\")"
   ]
  },
  {
   "cell_type": "code",
   "execution_count": 37,
   "id": "a1979f72-f7a1-45d1-bbaa-f7e391aece83",
   "metadata": {},
   "outputs": [
    {
     "name": "stdout",
     "output_type": "stream",
     "text": [
      "The error mean is 0.26820112739373847\n",
      "The error variance is 0.010187071145561702\n"
     ]
    }
   ],
   "source": [
    "print(f\"The error mean is {df['Error scale'].mean()}\")\n",
    "print(f\"The error variance is {df['Error scale'].var()}\")"
   ]
  },
  {
   "cell_type": "code",
   "execution_count": null,
   "id": "58d8487f-63eb-4f20-985d-215c7c38bd64",
   "metadata": {},
   "outputs": [],
   "source": []
  }
 ],
 "metadata": {
  "kernelspec": {
   "display_name": "Python 3 (ipykernel)",
   "language": "python",
   "name": "python3"
  },
  "language_info": {
   "codemirror_mode": {
    "name": "ipython",
    "version": 3
   },
   "file_extension": ".py",
   "mimetype": "text/x-python",
   "name": "python",
   "nbconvert_exporter": "python",
   "pygments_lexer": "ipython3",
   "version": "3.12.7"
  }
 },
 "nbformat": 4,
 "nbformat_minor": 5
}
