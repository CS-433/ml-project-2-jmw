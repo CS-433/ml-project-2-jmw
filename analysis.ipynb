{
 "cells": [
  {
   "cell_type": "code",
   "execution_count": 17,
   "id": "fdfbe6a4-76ec-4f18-a309-3a845530a3ff",
   "metadata": {},
   "outputs": [
    {
     "name": "stdout",
     "output_type": "stream",
     "text": [
      "The autoreload extension is already loaded. To reload it, use:\n",
      "  %reload_ext autoreload\n"
     ]
    }
   ],
   "source": [
    "%load_ext autoreload\n",
    "%autoreload 2"
   ]
  },
  {
   "cell_type": "code",
   "execution_count": 18,
   "id": "df335dde-8a74-4e98-84b4-44fb3f3dbdf5",
   "metadata": {},
   "outputs": [],
   "source": [
    "import pandas as pd\n",
    "import matplotlib.pyplot as plt\n",
    "\n",
    "import torch\n",
    "import os\n",
    "from PIL import Image\n",
    "\n",
    "from Config import Config\n",
    "from Models import Tools, PreTrainedKPD"
   ]
  },
  {
   "cell_type": "code",
   "execution_count": 19,
   "id": "cd7ca65d-3e6b-45d3-98af-a8b22f6fb6d1",
   "metadata": {},
   "outputs": [],
   "source": [
    "#Get csv files into dataframes\n",
    "notes = pd.read_csv('CSVs/combined.csv')\n",
    "preds = pd.read_csv('predictions_17december.csv')\n",
    "\n",
    "#Get rid of extension name for some unmatch with jpg\n",
    "preds['Image Name'] = preds['Image Name'].map(lambda s : os.path.splitext(s)[0])\n",
    "notes['Image Name'] = notes['Image Name'].map(lambda s : os.path.splitext(s)[0])\n",
    "\n",
    "#Get rid of duplicate annotation of the same image\n",
    "notes = notes.groupby(['Image Name']).mean()"
   ]
  },
  {
   "cell_type": "code",
   "execution_count": 20,
   "id": "03dc0b7b-1184-4baf-bdec-e7047334edc6",
   "metadata": {},
   "outputs": [],
   "source": [
    "# match annotated coordinates with predicted ones using sql like inner join on column Image Name\n",
    "df = preds.set_index('Image Name').join(notes, how='inner', lsuffix='_predicted', rsuffix='_real')"
   ]
  },
  {
   "cell_type": "code",
   "execution_count": 21,
   "id": "c0514f10-7370-48e3-aa1a-64a390ebcfe2",
   "metadata": {},
   "outputs": [],
   "source": [
    "\"\"\"\n",
    "it is finally not necessary to normalize here?\n",
    "\"\"\"\n",
    "\n",
    "#function to get images dimension for normalisation\n",
    "#for combined and prediction are on the same original scale\n",
    "def get_image_shape(file_path):\n",
    "    with Image.open(file_path) as img:\n",
    "        return img.size\n",
    "\n",
    "\n",
    "shapes  = df.index.map(lambda s : get_image_shape(\n",
    "    os.path.join(Config.images_folder_path, s + '.png')\n",
    "    )\n",
    ").to_frame( index=False,name=['X','Y']).values\n",
    "\n",
    "df['X'] = shapes[:,0]\n",
    "df['Y'] = shapes[:,1]\n",
    "\n",
    "#Normalizing columns, also the heigt and width are note \n",
    "df = df.assign(\n",
    "    x1_predicted=lambda d: d['x1_predicted'] / d['X'],\n",
    "    y1_predicted=lambda d: d['y1_predicted'] / d['Y'],\n",
    "    x2_predicted=lambda d: d['x2_predicted'] / d['X'],\n",
    "    y2_predicted=lambda d: d['y2_predicted'] / d['Y'],\n",
    "    x1_real=lambda d: d['x1_real'] / d['X'],\n",
    "    y1_real=lambda d: d['y1_real'] / d['Y'],\n",
    "    x2_real=lambda d: d['x2_real'] / d['X'],\n",
    "    y2_real=lambda d: d['y2_real'] / d['Y'], \n",
    ").drop(['X','Y'], axis=1)"
   ]
  },
  {
   "cell_type": "code",
   "execution_count": null,
   "id": "be159dca-4691-4031-a5fa-57e3adb85a0c",
   "metadata": {},
   "outputs": [],
   "source": []
  },
  {
   "cell_type": "code",
   "execution_count": 22,
   "id": "e69fdcc0-601c-4750-be5c-5356869b0f44",
   "metadata": {},
   "outputs": [
    {
     "name": "stdout",
     "output_type": "stream",
     "text": [
      "MSE loss 0.045702337944739976\n",
      "Tools.py distance loss (normalized?) 0.12729763552053083\n"
     ]
    }
   ],
   "source": [
    "\"\"\"\n",
    "Compute of distance error the same as the confidence model prediction was trained\n",
    "but not on the real distance error of the KPD but on the distance error from annotations\n",
    "\"\"\"\n",
    "keypoints = torch.tensor(df[['x1_predicted','y1_predicted','x2_predicted','y2_predicted']].values)\n",
    "outputs = torch.tensor(df[['x1_real','y1_real','x2_real','y2_real']].values)\n",
    "\n",
    "clamp_threshold = 0.004\n",
    "\n",
    "errors = (keypoints - outputs)**2\n",
    "mse_per_vector = torch.mean(errors, dim=1, keepdim=True)\n",
    "mse_per_vector_np = mse_per_vector.cpu().numpy()\n",
    "\n",
    "# Step 1: Normalize by mean and variance\n",
    "mean = mse_per_vector.mean()\n",
    "std = mse_per_vector.std()\n",
    "normalized_vector = (mse_per_vector - mean) / std\n",
    "\n",
    "min_val = normalized_vector.min()\n",
    "max_val = normalized_vector.max()\n",
    "\n",
    "scaled_errors = (normalized_vector - min_val) / (max_val - min_val)\n",
    "\n",
    "df['Error scale'] = scaled_errors\n",
    "\n",
    "print(f\"MSE loss {torch.nn.MSELoss()(outputs, keypoints)}\")\n",
    "print(f\"Tools.py distance loss (normalized?) {Tools.get_distance_loss(outputs, keypoints)}\")"
   ]
  },
  {
   "cell_type": "code",
   "execution_count": 23,
   "id": "a1979f72-f7a1-45d1-bbaa-f7e391aece83",
   "metadata": {},
   "outputs": [
    {
     "name": "stdout",
     "output_type": "stream",
     "text": [
      "The error mean is 0.26820112739373847\n",
      "The error variance is 0.010187071145561702\n",
      "The error mean given the confidence is 0.2982082624144184\n"
     ]
    }
   ],
   "source": [
    "print(f\"The error mean is {df['Error scale'].mean()}\")\n",
    "print(f\"The error variance is {df['Error scale'].var()}\")\n",
    "print(f\"The error mean given the confidence is { (df['Error scale'] * df['Error estimate']).sum() / df['Error scale'].sum()}\")"
   ]
  },
  {
   "cell_type": "code",
   "execution_count": 72,
   "id": "2a9f7ba6-407b-46fa-8b62-caa67c1c4032",
   "metadata": {},
   "outputs": [],
   "source": [
    "# Creating the DataFrame\n",
    "pretrain_loss = pd.DataFrame({\n",
    "    'Epoch': [0, 50, 100, 150, 200, 250, 300, 350, 400],\n",
    "    'Test Loss': [\n",
    "        0.21656227111816406, 0.017515307292342186, 0.007022107020020485,\n",
    "        0.005836768541485071, 0.004943563137203455, 0.004706777632236481,\n",
    "        0.004554087296128273, 0.004576138220727444, 0.004430223256349564\n",
    "    ],\n",
    "    'Learning Rate': [\n",
    "        9.900000000000001e-05, 5.9895600646616125e-05, 3.62372017860497e-05,\n",
    "        2.1923726936647233e-05, 1.326398781093821e-05, 8.024793100055947e-06,\n",
    "        4.855048513057286e-06, 2.9373338066467324e-06, 1.7771047742294685e-06\n",
    "    ],\n",
    "    'Distance Error': [\n",
    "        0.11020448803901672, 0.1394646316766739, 0.09164484590291977,\n",
    "        0.08644966036081314, 0.07801023870706558, 0.07784640789031982,\n",
    "        0.07664965093135834, 0.07855602353811264, 0.07483527064323425\n",
    "    ]\n",
    "})\n",
    "\n",
    "# Creating the DataFrame\n",
    "finetune_loss = pd.DataFrame({\n",
    "    'Epoch': [0, 50, 100, 150, 200, 250, 300, 350, 400, 450, 500],\n",
    "    'Test Loss': [\n",
    "        0.005645541939884424, 0.002760204952210188, 0.0026814809534698725,\n",
    "        0.001673800521530211, 0.001656909822486341, 0.0014939593384042382,\n",
    "        0.0014554103836417198, 0.0014774646842852235, 0.0014525195583701134,\n",
    "        0.0014160911086946726, 0.0014338785549625754\n",
    "    ],\n",
    "    'Learning Rate': [\n",
    "        9.900000000000001e-05, 5.9895600646616125e-05, 3.62372017860497e-05,\n",
    "        2.1923726936647233e-05, 1.326398781093821e-05, 8.024793100055947e-06,\n",
    "        4.855048513057286e-06, 2.9373338066467324e-06, 1.7771047742294685e-06,\n",
    "        1.0751591703479103e-06, 6.50477821199046e-07\n",
    "    ],\n",
    "    'Distance Error': [\n",
    "        0.07057426869869232, 0.04805443435907364, 0.06100216880440712,\n",
    "        0.04197042062878609, 0.04451345279812813, 0.04131276160478592,\n",
    "        0.041651103645563126, 0.04155052453279495, 0.041379883885383606,\n",
    "        0.04106401279568672, 0.04186074808239937\n",
    "    ]\n",
    "})\n",
    "finetune_loss['Epoch'] += pretrain_loss['Epoch'].iloc[-1]"
   ]
  },
  {
   "cell_type": "code",
   "execution_count": 77,
   "id": "9006b388-74be-46fd-bf0e-d02024bc1d86",
   "metadata": {},
   "outputs": [
    {
     "data": {
      "text/plain": [
       "<matplotlib.lines.Line2D at 0x7ee044f33c20>"
      ]
     },
     "execution_count": 77,
     "metadata": {},
     "output_type": "execute_result"
    },
    {
     "data": {
      "image/png": "[encoded data removed]",
      "text/plain": [
       "<Figure size 640x480 with 1 Axes>"
      ]
     },
     "metadata": {},
     "output_type": "display_data"
    }
   ],
   "source": [
    "train = pd.concat([pretrain_loss.set_index('Epoch'), finetune_loss.set_index('Epoch')])\n",
    "\n",
    "\n",
    "ax = train.plot(title='Training evolution of KPD model', xlabel='Epoch')\n",
    "ax.axvline(x=450, color='red', ls='--')\n"
   ]
  },
  {
   "cell_type": "code",
   "execution_count": null,
   "id": "bd89b214-1ed4-460c-97de-1e20d387b087",
   "metadata": {},
   "outputs": [],
   "source": [
    "#confidence model\n"
   ]
  }
 ],
 "metadata": {
  "kernelspec": {
   "display_name": "Python 3 (ipykernel)",
   "language": "python",
   "name": "python3"
  },
  "language_info": {
   "codemirror_mode": {
    "name": "ipython",
    "version": 3
   },
   "file_extension": ".py",
   "mimetype": "text/x-python",
   "name": "python",
   "nbconvert_exporter": "python",
   "pygments_lexer": "ipython3",
   "version": "3.12.7"
  }
 },
 "nbformat": 4,
 "nbformat_minor": 5
}
