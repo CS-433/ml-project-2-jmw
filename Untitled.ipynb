{
 "cells": [
  {
   "cell_type": "code",
   "execution_count": 4,
   "id": "3566f245-7cbd-4721-bd03-3e52d86fa770",
   "metadata": {},
   "outputs": [],
   "source": [
    "import pandas as pd\n",
    "import numpy as np"
   ]
  },
  {
   "cell_type": "code",
   "execution_count": 20,
   "id": "a432bcd4-38b3-4fa7-8d7d-63d0efa9208e",
   "metadata": {},
   "outputs": [],
   "source": [
    "df = pd.read_csv(\"./wene.csv\")"
   ]
  },
  {
   "cell_type": "code",
   "execution_count": 48,
   "id": "51966be9-a0b2-4e90-9321-0311d254d920",
   "metadata": {},
   "outputs": [],
   "source": [
    "df = df.assign(\n",
    "    x1=lambda x : x.x1.map(int),\n",
    "    x2=lambda x : x.x2.map(int),\n",
    "    y1=lambda x : x.y1.map(int),\n",
    "    y2=lambda x : x.y2.map(int),\n",
    ")"
   ]
  },
  {
   "cell_type": "code",
   "execution_count": 50,
   "id": "d3f5e236-283c-4a02-b3c2-a46c0118a9e0",
   "metadata": {},
   "outputs": [],
   "source": [
    "df.to_csv(\"wene.csv\")"
   ]
  }
 ],
 "metadata": {
  "kernelspec": {
   "display_name": "Python 3 (ipykernel)",
   "language": "python",
   "name": "python3"
  },
  "language_info": {
   "codemirror_mode": {
    "name": "ipython",
    "version": 3
   },
   "file_extension": ".py",
   "mimetype": "text/x-python",
   "name": "python",
   "nbconvert_exporter": "python",
   "pygments_lexer": "ipython3",
   "version": "3.12.7"
  }
 },
 "nbformat": 4,
 "nbformat_minor": 5
}
